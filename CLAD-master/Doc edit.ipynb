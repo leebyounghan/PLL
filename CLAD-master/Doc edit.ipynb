{
 "cells": [
  {
   "cell_type": "code",
   "execution_count": 1,
   "id": "e18ea22f",
   "metadata": {},
   "outputs": [],
   "source": [
    "import pandas as pd\n",
    "import numpy as np"
   ]
  },
  {
   "cell_type": "code",
   "execution_count": 3,
   "id": "eab1c5ec",
   "metadata": {},
   "outputs": [
    {
     "name": "stdout",
     "output_type": "stream",
     "text": [
      "/hdd/log\n"
     ]
    }
   ],
   "source": [
    "cd /hdd/log"
   ]
  },
  {
   "cell_type": "code",
   "execution_count": 5,
   "id": "ffe59adc",
   "metadata": {},
   "outputs": [
    {
     "name": "stdout",
     "output_type": "stream",
     "text": [
      "/hdd\n"
     ]
    }
   ],
   "source": [
    "cd .."
   ]
  },
  {
   "cell_type": "code",
   "execution_count": 7,
   "id": "da274c26",
   "metadata": {},
   "outputs": [
    {
     "name": "stdout",
     "output_type": "stream",
     "text": [
      "/hdd/qudgks\n"
     ]
    }
   ],
   "source": [
    "cd qudgks"
   ]
  },
  {
   "cell_type": "code",
   "execution_count": 8,
   "id": "b85e855a",
   "metadata": {},
   "outputs": [
    {
     "name": "stdout",
     "output_type": "stream",
     "text": [
      "\u001b[0m\u001b[01;34m2022-4-15\u001b[0m/  clinc_new.csv  stt3.csv  stt.csv\r\n"
     ]
    }
   ],
   "source": [
    "ls"
   ]
  },
  {
   "cell_type": "code",
   "execution_count": 9,
   "id": "5d0a7b01",
   "metadata": {},
   "outputs": [],
   "source": [
    "df_sst3 = pd.read_csv(\"stt3.csv\")\n",
    "df_stt = pd.read_csv('stt.csv')"
   ]
  },
  {
   "cell_type": "code",
   "execution_count": 10,
   "id": "d189bb6d",
   "metadata": {},
   "outputs": [],
   "source": [
    "df = pd.concat([df_sst3, df_stt])"
   ]
  },
  {
   "cell_type": "code",
   "execution_count": 13,
   "id": "29708b20",
   "metadata": {},
   "outputs": [],
   "source": [
    "df = df[df['dataset'] == 'sst']"
   ]
  },
  {
   "cell_type": "code",
   "execution_count": 15,
   "id": "c7eb8b75",
   "metadata": {},
   "outputs": [],
   "source": [
    "df.to_csv('stt_new.csv')"
   ]
  },
  {
   "cell_type": "code",
   "execution_count": null,
   "id": "c771fbde",
   "metadata": {},
   "outputs": [],
   "source": []
  }
 ],
 "metadata": {
  "kernelspec": {
   "display_name": "Python 3",
   "language": "python",
   "name": "python3"
  },
  "language_info": {
   "codemirror_mode": {
    "name": "ipython",
    "version": 3
   },
   "file_extension": ".py",
   "mimetype": "text/x-python",
   "name": "python",
   "nbconvert_exporter": "python",
   "pygments_lexer": "ipython3",
   "version": "3.8.8"
  }
 },
 "nbformat": 4,
 "nbformat_minor": 5
}
