{
 "cells": [
  {
   "cell_type": "code",
   "execution_count": 40,
   "id": "e18ea22f",
   "metadata": {},
   "outputs": [],
   "source": [
    "import pandas as pd\n",
    "import numpy as np\n",
    "import pdb\n",
    "import os"
   ]
  },
  {
   "cell_type": "code",
   "execution_count": 192,
   "id": "8b0769c5",
   "metadata": {},
   "outputs": [
    {
     "name": "stdout",
     "output_type": "stream",
     "text": [
      "20news-bydate_py3.pkz  data_full.json  \u001b[0m\u001b[01;34msinps\u001b[0m/  \u001b[01;34mstackoverflow\u001b[0m/\r\n",
      "\u001b[01;34mbanking\u001b[0m/               \u001b[01;34mROSTD\u001b[0m/          \u001b[01;34msst\u001b[0m/\r\n"
     ]
    }
   ],
   "source": [
    "ls"
   ]
  },
  {
   "cell_type": "code",
   "execution_count": 194,
   "id": "04b35a61",
   "metadata": {
    "scrolled": true
   },
   "outputs": [
    {
     "name": "stdout",
     "output_type": "stream",
     "text": [
      "/home/qudgks/workspace/gpu8/CLAD-master/data/banking\n"
     ]
    }
   ],
   "source": [
    "cd /home/qudgks/workspace/gpu8/CLAD-master/data/banking"
   ]
  },
  {
   "cell_type": "code",
   "execution_count": 208,
   "id": "26361e73",
   "metadata": {},
   "outputs": [
    {
     "name": "stdout",
     "output_type": "stream",
     "text": [
      "/home/qudgks/workspace/gpu8/CLAD-master/data/stackoverflow\n"
     ]
    }
   ],
   "source": [
    "cd /home/qudgks/workspace/gpu8/CLAD-master/data/stackoverflow"
   ]
  },
  {
   "cell_type": "code",
   "execution_count": 209,
   "id": "37f06c49",
   "metadata": {},
   "outputs": [],
   "source": [
    "df_train = pd.read_csv('train.tsv', delimiter='\\t', index_col=None)\n",
    "df_valid = pd.read_csv('valid.tsv', delimiter='\\t', index_col=None)\n",
    "df_test = pd.read_csv('test.tsv', delimiter='\\t', index_col=None)"
   ]
  },
  {
   "cell_type": "code",
   "execution_count": 210,
   "id": "d633430e",
   "metadata": {},
   "outputs": [
    {
     "data": {
      "text/html": [
       "<div>\n",
       "<style scoped>\n",
       "    .dataframe tbody tr th:only-of-type {\n",
       "        vertical-align: middle;\n",
       "    }\n",
       "\n",
       "    .dataframe tbody tr th {\n",
       "        vertical-align: top;\n",
       "    }\n",
       "\n",
       "    .dataframe thead th {\n",
       "        text-align: right;\n",
       "    }\n",
       "</style>\n",
       "<table border=\"1\" class=\"dataframe\">\n",
       "  <thead>\n",
       "    <tr style=\"text-align: right;\">\n",
       "      <th></th>\n",
       "      <th>text</th>\n",
       "      <th>label</th>\n",
       "    </tr>\n",
       "  </thead>\n",
       "  <tbody>\n",
       "    <tr>\n",
       "      <th>0</th>\n",
       "      <td>Forking Subversion Project</td>\n",
       "      <td>svn</td>\n",
       "    </tr>\n",
       "    <tr>\n",
       "      <th>1</th>\n",
       "      <td>How do you work on Oracle packages in a collab...</td>\n",
       "      <td>oracle</td>\n",
       "    </tr>\n",
       "    <tr>\n",
       "      <th>2</th>\n",
       "      <td>How do i represent an image through CAML?</td>\n",
       "      <td>sharepoint</td>\n",
       "    </tr>\n",
       "    <tr>\n",
       "      <th>3</th>\n",
       "      <td>Is there a connection between SourceSafe (vers...</td>\n",
       "      <td>sharepoint</td>\n",
       "    </tr>\n",
       "    <tr>\n",
       "      <th>4</th>\n",
       "      <td>Spring Timers on JBoss don't stop when undeployed</td>\n",
       "      <td>spring</td>\n",
       "    </tr>\n",
       "    <tr>\n",
       "      <th>...</th>\n",
       "      <td>...</td>\n",
       "      <td>...</td>\n",
       "    </tr>\n",
       "    <tr>\n",
       "      <th>5995</th>\n",
       "      <td>SharePoint remembering changed password</td>\n",
       "      <td>sharepoint</td>\n",
       "    </tr>\n",
       "    <tr>\n",
       "      <th>5996</th>\n",
       "      <td>Magento - Find Out of Stock Products With Inve...</td>\n",
       "      <td>magento</td>\n",
       "    </tr>\n",
       "    <tr>\n",
       "      <th>5997</th>\n",
       "      <td>Python OS X 10.5 development environment</td>\n",
       "      <td>osx</td>\n",
       "    </tr>\n",
       "    <tr>\n",
       "      <th>5998</th>\n",
       "      <td>Crop &amp; Resize Images in  Wordpress</td>\n",
       "      <td>wordpress</td>\n",
       "    </tr>\n",
       "    <tr>\n",
       "      <th>5999</th>\n",
       "      <td>Code won't work under mono, any ideas whats wr...</td>\n",
       "      <td>apache</td>\n",
       "    </tr>\n",
       "  </tbody>\n",
       "</table>\n",
       "<p>6000 rows × 2 columns</p>\n",
       "</div>"
      ],
      "text/plain": [
       "                                                   text       label\n",
       "0                            Forking Subversion Project         svn\n",
       "1     How do you work on Oracle packages in a collab...      oracle\n",
       "2             How do i represent an image through CAML?  sharepoint\n",
       "3     Is there a connection between SourceSafe (vers...  sharepoint\n",
       "4     Spring Timers on JBoss don't stop when undeployed      spring\n",
       "...                                                 ...         ...\n",
       "5995            SharePoint remembering changed password  sharepoint\n",
       "5996  Magento - Find Out of Stock Products With Inve...     magento\n",
       "5997           Python OS X 10.5 development environment         osx\n",
       "5998                 Crop & Resize Images in  Wordpress   wordpress\n",
       "5999  Code won't work under mono, any ideas whats wr...      apache\n",
       "\n",
       "[6000 rows x 2 columns]"
      ]
     },
     "execution_count": 210,
     "metadata": {},
     "output_type": "execute_result"
    }
   ],
   "source": [
    "df_test"
   ]
  },
  {
   "cell_type": "code",
   "execution_count": 211,
   "id": "3ff0b77d",
   "metadata": {},
   "outputs": [
    {
     "name": "stderr",
     "output_type": "stream",
     "text": [
      "/tmp/ipykernel_9008/2422366287.py:10: SettingWithCopyWarning: \n",
      "A value is trying to be set on a copy of a slice from a DataFrame.\n",
      "Try using .loc[row_indexer,col_indexer] = value instead\n",
      "\n",
      "See the caveats in the documentation: https://pandas.pydata.org/pandas-docs/stable/user_guide/indexing.html#returning-a-view-versus-a-copy\n",
      "  df_valid_oos.loc[:, \"label\"] = 'oos'\n",
      "/tmp/ipykernel_9008/2422366287.py:10: SettingWithCopyWarning: \n",
      "A value is trying to be set on a copy of a slice from a DataFrame.\n",
      "Try using .loc[row_indexer,col_indexer] = value instead\n",
      "\n",
      "See the caveats in the documentation: https://pandas.pydata.org/pandas-docs/stable/user_guide/indexing.html#returning-a-view-versus-a-copy\n",
      "  df_valid_oos.loc[:, \"label\"] = 'oos'\n",
      "/tmp/ipykernel_9008/2422366287.py:10: SettingWithCopyWarning: \n",
      "A value is trying to be set on a copy of a slice from a DataFrame.\n",
      "Try using .loc[row_indexer,col_indexer] = value instead\n",
      "\n",
      "See the caveats in the documentation: https://pandas.pydata.org/pandas-docs/stable/user_guide/indexing.html#returning-a-view-versus-a-copy\n",
      "  df_valid_oos.loc[:, \"label\"] = 'oos'\n",
      "/tmp/ipykernel_9008/2422366287.py:10: SettingWithCopyWarning: \n",
      "A value is trying to be set on a copy of a slice from a DataFrame.\n",
      "Try using .loc[row_indexer,col_indexer] = value instead\n",
      "\n",
      "See the caveats in the documentation: https://pandas.pydata.org/pandas-docs/stable/user_guide/indexing.html#returning-a-view-versus-a-copy\n",
      "  df_valid_oos.loc[:, \"label\"] = 'oos'\n",
      "/tmp/ipykernel_9008/2422366287.py:10: SettingWithCopyWarning: \n",
      "A value is trying to be set on a copy of a slice from a DataFrame.\n",
      "Try using .loc[row_indexer,col_indexer] = value instead\n",
      "\n",
      "See the caveats in the documentation: https://pandas.pydata.org/pandas-docs/stable/user_guide/indexing.html#returning-a-view-versus-a-copy\n",
      "  df_valid_oos.loc[:, \"label\"] = 'oos'\n"
     ]
    }
   ],
   "source": [
    "for i in range(5):\n",
    "    np.random.seed(42*i + 323 + i)\n",
    "    unique_labels = df_test.label.unique()\n",
    "    seen_labels = np.random.choice(unique_labels, int(len(unique_labels)*0.75), replace=False)\n",
    " \n",
    "\n",
    "    df_train_seen = df_train[df_train.label.isin(seen_labels)]\n",
    "    df_valid_seen = df_valid[df_valid.label.isin(seen_labels)]\n",
    "    df_valid_oos = df_valid[~df_valid.label.isin(seen_labels)]\n",
    "    df_valid_oos.loc[:, \"label\"] = 'oos'\n",
    "    df_test.loc[~df_test.label.isin(seen_labels), \"label\"] = 'oos'\n",
    "    df_train_seen.to_csv(f'./seed_{i}/train.csv')\n",
    "    df_valid_seen.to_csv(f'./seed_{i}/val.csv')\n",
    "    df_test.to_csv(f'./seed_{i}/test.csv')"
   ]
  },
  {
   "cell_type": "code",
   "execution_count": null,
   "id": "58c50dd7",
   "metadata": {},
   "outputs": [],
   "source": []
  }
 ],
 "metadata": {
  "kernelspec": {
   "display_name": "Python 3 (ipykernel)",
   "language": "python",
   "name": "python3"
  },
  "language_info": {
   "codemirror_mode": {
    "name": "ipython",
    "version": 3
   },
   "file_extension": ".py",
   "mimetype": "text/x-python",
   "name": "python",
   "nbconvert_exporter": "python",
   "pygments_lexer": "ipython3",
   "version": "3.9.12"
  }
 },
 "nbformat": 4,
 "nbformat_minor": 5
}
