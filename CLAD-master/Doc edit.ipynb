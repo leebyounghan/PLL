{
 "cells": [
  {
   "cell_type": "code",
   "execution_count": 1,
   "id": "e18ea22f",
   "metadata": {},
   "outputs": [],
   "source": [
    "import pandas as pd\n",
    "import numpy as np\n",
    "import pdb\n",
    "import os"
   ]
  },
  {
   "cell_type": "code",
   "execution_count": 2,
   "id": "8b0769c5",
   "metadata": {},
   "outputs": [
    {
     "name": "stdout",
     "output_type": "stream",
     "text": [
      " AUROC_K_plot.ipynb     'OC-SVM feature.ipynb'   \u001b[0m\u001b[01;34msrc\u001b[0m/\r\n",
      " \u001b[01;34mdata\u001b[0m/                   README.md               toy_vis.ipynb\r\n",
      "'Doc edit.ipynb'         requirements.sh         Untitled.ipynb\r\n",
      " emb_vis.ipynb           run_new20_dec_bert.sh\r\n",
      " mahalanobis_vis.ipynb   \u001b[01;34msoftmax_scores\u001b[0m/\r\n"
     ]
    }
   ],
   "source": [
    "ls"
   ]
  },
  {
   "cell_type": "code",
   "execution_count": 3,
   "id": "ef6795c8",
   "metadata": {
    "scrolled": true
   },
   "outputs": [
    {
     "name": "stdout",
     "output_type": "stream",
     "text": [
      "[Errno 2] No such file or directory: '/home/qudgks/workspace/gpu8/CLAD-master/data/banking'\n",
      "/home/qudgks/workspace/gpu8/CLAD-master\n"
     ]
    }
   ],
   "source": [
    "cd /home/qudgks/workspace/gpu8/CLAD-master/data/banking"
   ]
  },
  {
   "cell_type": "code",
   "execution_count": 4,
   "id": "26361e73",
   "metadata": {},
   "outputs": [
    {
     "name": "stdout",
     "output_type": "stream",
     "text": [
      "[Errno 2] No such file or directory: '/home/qudgks/workspace/gpu8/CLAD-master/data/stackoverflow'\n",
      "/home/qudgks/workspace/gpu8/CLAD-master\n"
     ]
    }
   ],
   "source": [
    "cd /home/qudgks/workspace/gpu8/CLAD-master/data/stackoverflow"
   ]
  },
  {
   "cell_type": "code",
   "execution_count": 216,
   "id": "33b2e6d8",
   "metadata": {},
   "outputs": [],
   "source": [
    "df_train = pd.read_csv('train.tsv', delimiter='\\t', index_col=None)\n",
    "df_valid = pd.read_csv('valid.tsv', delimiter='\\t', index_col=None)\n",
    "df_test = pd.read_csv('test.tsv', delimiter='\\t', index_col=None)"
   ]
  },
  {
   "cell_type": "code",
   "execution_count": null,
   "id": "16050f39",
   "metadata": {},
   "outputs": [],
   "source": [
    "for i in range(5):\n",
    "    np.random.seed(42*i + 323 + i)\n",
    "    unique_labels = df_train.label.unique()\n",
    "    seen_labels = np.random.choice(unique_labels, int(len(unique_labels)*0.75), replace=False)\n",
    "    df_test_ = df_test\n",
    "\n",
    "    df_train_seen = df_train[df_train.label.isin(seen_labels)]\n",
    "    df_valid_seen = df_valid[df_valid.label.isin(seen_labels)]\n",
    "    df_valid_oos = df_valid[~df_valid.label.isin(seen_labels)]\n",
    "    df_valid_oos.loc[:, \"label\"] = 'oos'\n",
    "    df_test_.loc[~df_test_.label.isin(seen_labels), \"label\"] = 'oos'\n",
    "    \n",
    "    print(len(df_test_.label.unique()))"
   ]
  },
  {
   "cell_type": "code",
   "execution_count": 212,
   "id": "4ec2897b",
   "metadata": {},
   "outputs": [],
   "source": [
    "import pdb"
   ]
  },
  {
   "cell_type": "code",
   "execution_count": 214,
   "id": "f175d13d",
   "metadata": {},
   "outputs": [
    {
     "data": {
      "text/plain": [
       "3"
      ]
     },
     "execution_count": 214,
     "metadata": {},
     "output_type": "execute_result"
    }
   ],
   "source": [
    "int(len(unique_labels)*0.75)"
   ]
  },
  {
   "cell_type": "code",
   "execution_count": 227,
   "id": "ebfd5542",
   "metadata": {},
   "outputs": [
    {
     "data": {
      "text/html": [
       "<div>\n",
       "<style scoped>\n",
       "    .dataframe tbody tr th:only-of-type {\n",
       "        vertical-align: middle;\n",
       "    }\n",
       "\n",
       "    .dataframe tbody tr th {\n",
       "        vertical-align: top;\n",
       "    }\n",
       "\n",
       "    .dataframe thead th {\n",
       "        text-align: right;\n",
       "    }\n",
       "</style>\n",
       "<table border=\"1\" class=\"dataframe\">\n",
       "  <thead>\n",
       "    <tr style=\"text-align: right;\">\n",
       "      <th></th>\n",
       "      <th>text</th>\n",
       "    </tr>\n",
       "    <tr>\n",
       "      <th>label</th>\n",
       "      <th></th>\n",
       "    </tr>\n",
       "  </thead>\n",
       "  <tbody>\n",
       "    <tr>\n",
       "      <th>haskell</th>\n",
       "      <td>300</td>\n",
       "    </tr>\n",
       "    <tr>\n",
       "      <th>oos</th>\n",
       "      <td>4800</td>\n",
       "    </tr>\n",
       "    <tr>\n",
       "      <th>oracle</th>\n",
       "      <td>300</td>\n",
       "    </tr>\n",
       "    <tr>\n",
       "      <th>sharepoint</th>\n",
       "      <td>300</td>\n",
       "    </tr>\n",
       "    <tr>\n",
       "      <th>visual-studio</th>\n",
       "      <td>300</td>\n",
       "    </tr>\n",
       "  </tbody>\n",
       "</table>\n",
       "</div>"
      ],
      "text/plain": [
       "               text\n",
       "label              \n",
       "haskell         300\n",
       "oos            4800\n",
       "oracle          300\n",
       "sharepoint      300\n",
       "visual-studio   300"
      ]
     },
     "execution_count": 227,
     "metadata": {},
     "output_type": "execute_result"
    }
   ],
   "source": [
    "df_test.groupby('label').count()"
   ]
  },
  {
   "cell_type": "code",
   "execution_count": null,
   "id": "4c1afa88",
   "metadata": {},
   "outputs": [],
   "source": []
  }
 ],
 "metadata": {
  "kernelspec": {
   "display_name": "Python 3 (ipykernel)",
   "language": "python",
   "name": "python3"
  },
  "language_info": {
   "codemirror_mode": {
    "name": "ipython",
    "version": 3
   },
   "file_extension": ".py",
   "mimetype": "text/x-python",
   "name": "python",
   "nbconvert_exporter": "python",
   "pygments_lexer": "ipython3",
   "version": "3.9.12"
  }
 },
 "nbformat": 4,
 "nbformat_minor": 5
}
