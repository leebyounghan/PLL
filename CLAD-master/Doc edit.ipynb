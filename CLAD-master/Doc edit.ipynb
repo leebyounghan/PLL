{
 "cells": [
  {
   "cell_type": "code",
   "execution_count": 2,
   "id": "e18ea22f",
   "metadata": {},
   "outputs": [],
   "source": [
    "import pandas as pd\n",
    "import numpy as np\n",
    "import pdb\n",
    "import os\n",
    "import json"
   ]
  },
  {
   "cell_type": "code",
   "execution_count": 23,
   "id": "8b0769c5",
   "metadata": {},
   "outputs": [
    {
     "name": "stdout",
     "output_type": "stream",
     "text": [
      "\u001b[0m\u001b[01;34mseed_0\u001b[0m/  \u001b[01;34mseed_1\u001b[0m/  \u001b[01;34mseed_2\u001b[0m/  \u001b[01;34mseed_3\u001b[0m/  \u001b[01;34mseed_4\u001b[0m/  test.tsv  train.tsv  valid.tsv\r\n"
     ]
    }
   ],
   "source": [
    "ls"
   ]
  },
  {
   "cell_type": "code",
   "execution_count": 24,
   "id": "ef6795c8",
   "metadata": {
    "scrolled": true
   },
   "outputs": [
    {
     "name": "stdout",
     "output_type": "stream",
     "text": [
      "/home/qudgks/workspace/gpu8/CLAD-master/data/hwu\n"
     ]
    }
   ],
   "source": [
    "cd /home/qudgks/workspace/gpu8/CLAD-master/data/hwu/"
   ]
  },
  {
   "cell_type": "code",
   "execution_count": 17,
   "id": "33b2e6d8",
   "metadata": {},
   "outputs": [],
   "source": [
    "df_train = pd.read_csv('train.tsv', delimiter='\\t', index_col=None)\n",
    "#df_valid = pd.read_csv('valid.tsv', delimiter='\\t', index_col=None)\n",
    "df_test = pd.read_csv('test.tsv', delimiter='\\t', index_col=None)"
   ]
  },
  {
   "cell_type": "code",
   "execution_count": 25,
   "id": "f7a71db4",
   "metadata": {},
   "outputs": [],
   "source": [
    "df_train = pd.read_csv('train.csv', index_col=None)\n",
    "#df_valid = pd.read_csv('valid.tsv', delimiter='\\t', index_col=None)\n",
    "df_test = pd.read_csv('test.csv', index_col=None)"
   ]
  },
  {
   "cell_type": "code",
   "execution_count": 26,
   "id": "ee662240",
   "metadata": {},
   "outputs": [
    {
     "name": "stdout",
     "output_type": "stream",
     "text": [
      "categories.json  test.csv  train.csv\r\n"
     ]
    }
   ],
   "source": [
    "ls"
   ]
  },
  {
   "cell_type": "code",
   "execution_count": 38,
   "id": "92eff707",
   "metadata": {},
   "outputs": [
    {
     "data": {
      "text/plain": [
       "7611"
      ]
     },
     "execution_count": 38,
     "metadata": {},
     "output_type": "execute_result"
    }
   ],
   "source": [
    "len(df_train_seen)"
   ]
  },
  {
   "cell_type": "code",
   "execution_count": 37,
   "id": "16050f39",
   "metadata": {},
   "outputs": [
    {
     "name": "stdout",
     "output_type": "stream",
     "text": [
      "['alarm_query' 'alarm_remove' 'oos' 'audio_volume_mute' 'calendar_query'\n",
      " 'calendar_remove' 'cooking_recipe' 'datetime_convert' 'email_addcontact'\n",
      " 'email_query' 'email_querycontact' 'email_sendemail' 'general_affirm'\n",
      " 'general_commandstop' 'general_confirm' 'general_dontcare'\n",
      " 'general_explain' 'general_joke' 'general_negate' 'general_praise'\n",
      " 'iot_cleaning' 'iot_coffee' 'iot_hue_lightchange' 'iot_hue_lightdim'\n",
      " 'iot_hue_lightoff' 'iot_hue_lighton' 'iot_hue_lightup' 'iot_wemo_off'\n",
      " 'iot_wemo_on' 'lists_createoradd' 'lists_remove' 'music_query'\n",
      " 'music_settings' 'news_query' 'play_audiobook' 'play_game'\n",
      " 'play_podcasts' 'qa_currency' 'qa_factoid' 'qa_maths'\n",
      " 'recommendation_events' 'recommendation_movies' 'social_post'\n",
      " 'takeaway_order' 'takeaway_query' 'transport_taxi' 'transport_ticket'\n",
      " 'transport_traffic' 'weather_query']\n",
      "['alarm_query' 'alarm_remove' 'audio_volume_mute' 'calendar_query'\n",
      " 'calendar_remove' 'cooking_recipe' 'datetime_convert' 'email_addcontact'\n",
      " 'email_query' 'email_querycontact' 'email_sendemail' 'general_affirm'\n",
      " 'general_commandstop' 'general_confirm' 'general_dontcare'\n",
      " 'general_explain' 'general_joke' 'general_negate' 'general_praise'\n",
      " 'iot_cleaning' 'iot_coffee' 'iot_hue_lightchange' 'iot_hue_lightdim'\n",
      " 'iot_hue_lightoff' 'iot_hue_lighton' 'iot_hue_lightup' 'iot_wemo_off'\n",
      " 'iot_wemo_on' 'lists_createoradd' 'lists_remove' 'music_query'\n",
      " 'music_settings' 'news_query' 'play_audiobook' 'play_game'\n",
      " 'play_podcasts' 'qa_currency' 'qa_factoid' 'qa_maths'\n",
      " 'recommendation_events' 'recommendation_movies' 'social_post'\n",
      " 'takeaway_order' 'takeaway_query' 'transport_taxi' 'transport_ticket'\n",
      " 'transport_traffic' 'weather_query']\n",
      "49\n",
      "['oos' 'alarm_remove' 'alarm_set' 'calendar_query' 'calendar_set'\n",
      " 'cooking_recipe' 'datetime_query' 'email_addcontact' 'email_query'\n",
      " 'email_querycontact' 'email_sendemail' 'general_affirm'\n",
      " 'general_commandstop' 'general_confirm' 'general_dontcare'\n",
      " 'general_explain' 'general_joke' 'general_negate' 'general_praise'\n",
      " 'general_quirky' 'general_repeat' 'iot_cleaning' 'iot_coffee'\n",
      " 'iot_hue_lightchange' 'iot_hue_lightdim' 'iot_hue_lightoff'\n",
      " 'iot_hue_lightup' 'iot_wemo_off' 'lists_createoradd' 'lists_query'\n",
      " 'lists_remove' 'music_likeness' 'music_settings' 'play_audiobook'\n",
      " 'play_game' 'play_music' 'play_podcasts' 'qa_definition' 'qa_factoid'\n",
      " 'qa_maths' 'qa_stock' 'recommendation_events' 'social_query'\n",
      " 'takeaway_order' 'transport_query' 'transport_taxi' 'transport_ticket'\n",
      " 'transport_traffic' 'weather_query']\n",
      "['alarm_remove' 'alarm_set' 'calendar_query' 'calendar_set'\n",
      " 'cooking_recipe' 'datetime_query' 'email_addcontact' 'email_query'\n",
      " 'email_querycontact' 'email_sendemail' 'general_affirm'\n",
      " 'general_commandstop' 'general_confirm' 'general_dontcare'\n",
      " 'general_explain' 'general_joke' 'general_negate' 'general_praise'\n",
      " 'general_quirky' 'general_repeat' 'iot_cleaning' 'iot_coffee'\n",
      " 'iot_hue_lightchange' 'iot_hue_lightdim' 'iot_hue_lightoff'\n",
      " 'iot_hue_lightup' 'iot_wemo_off' 'lists_createoradd' 'lists_query'\n",
      " 'lists_remove' 'music_likeness' 'music_settings' 'play_audiobook'\n",
      " 'play_game' 'play_music' 'play_podcasts' 'qa_definition' 'qa_factoid'\n",
      " 'qa_maths' 'qa_stock' 'recommendation_events' 'social_query'\n",
      " 'takeaway_order' 'transport_query' 'transport_taxi' 'transport_ticket'\n",
      " 'transport_traffic' 'weather_query']\n",
      "49\n",
      "['alarm_query' 'oos' 'alarm_set' 'audio_volume_mute' 'audio_volume_up'\n",
      " 'calendar_query' 'calendar_remove' 'cooking_recipe' 'datetime_convert'\n",
      " 'datetime_query' 'email_addcontact' 'email_query' 'email_sendemail'\n",
      " 'general_affirm' 'general_commandstop' 'general_confirm'\n",
      " 'general_dontcare' 'general_explain' 'general_joke' 'general_negate'\n",
      " 'general_praise' 'general_quirky' 'general_repeat' 'iot_cleaning'\n",
      " 'iot_coffee' 'iot_hue_lightoff' 'iot_hue_lighton' 'iot_hue_lightup'\n",
      " 'iot_wemo_off' 'iot_wemo_on' 'lists_query' 'lists_remove' 'music_query'\n",
      " 'play_audiobook' 'play_music' 'play_podcasts' 'play_radio' 'qa_currency'\n",
      " 'qa_factoid' 'qa_maths' 'qa_stock' 'recommendation_locations'\n",
      " 'recommendation_movies' 'social_post' 'takeaway_query' 'transport_query'\n",
      " 'transport_taxi' 'transport_ticket' 'weather_query']\n",
      "['alarm_query' 'alarm_set' 'audio_volume_mute' 'audio_volume_up'\n",
      " 'calendar_query' 'calendar_remove' 'cooking_recipe' 'datetime_convert'\n",
      " 'datetime_query' 'email_addcontact' 'email_query' 'email_sendemail'\n",
      " 'general_affirm' 'general_commandstop' 'general_confirm'\n",
      " 'general_dontcare' 'general_explain' 'general_joke' 'general_negate'\n",
      " 'general_praise' 'general_quirky' 'general_repeat' 'iot_cleaning'\n",
      " 'iot_coffee' 'iot_hue_lightoff' 'iot_hue_lighton' 'iot_hue_lightup'\n",
      " 'iot_wemo_off' 'iot_wemo_on' 'lists_query' 'lists_remove' 'music_query'\n",
      " 'play_audiobook' 'play_music' 'play_podcasts' 'play_radio' 'qa_currency'\n",
      " 'qa_factoid' 'qa_maths' 'qa_stock' 'recommendation_locations'\n",
      " 'recommendation_movies' 'social_post' 'takeaway_query' 'transport_query'\n",
      " 'transport_taxi' 'transport_ticket' 'weather_query']\n",
      "49\n",
      "['alarm_query' 'alarm_remove' 'alarm_set' 'audio_volume_down'\n",
      " 'audio_volume_mute' 'audio_volume_up' 'calendar_query' 'oos'\n",
      " 'calendar_set' 'cooking_recipe' 'datetime_query' 'email_addcontact'\n",
      " 'email_query' 'email_querycontact' 'email_sendemail'\n",
      " 'general_commandstop' 'general_confirm' 'general_explain' 'general_joke'\n",
      " 'general_negate' 'general_quirky' 'general_repeat' 'iot_cleaning'\n",
      " 'iot_coffee' 'iot_hue_lightdim' 'iot_hue_lightoff' 'iot_wemo_off'\n",
      " 'iot_wemo_on' 'lists_createoradd' 'lists_remove' 'music_likeness'\n",
      " 'music_query' 'news_query' 'play_audiobook' 'play_game' 'play_music'\n",
      " 'play_podcasts' 'qa_currency' 'qa_factoid' 'qa_maths'\n",
      " 'recommendation_events' 'recommendation_locations'\n",
      " 'recommendation_movies' 'social_post' 'social_query' 'takeaway_order'\n",
      " 'takeaway_query' 'transport_query' 'transport_ticket']\n",
      "['alarm_query' 'alarm_remove' 'alarm_set' 'audio_volume_down'\n",
      " 'audio_volume_mute' 'audio_volume_up' 'calendar_query' 'calendar_set'\n",
      " 'cooking_recipe' 'datetime_query' 'email_addcontact' 'email_query'\n",
      " 'email_querycontact' 'email_sendemail' 'general_commandstop'\n",
      " 'general_confirm' 'general_explain' 'general_joke' 'general_negate'\n",
      " 'general_quirky' 'general_repeat' 'iot_cleaning' 'iot_coffee'\n",
      " 'iot_hue_lightdim' 'iot_hue_lightoff' 'iot_wemo_off' 'iot_wemo_on'\n",
      " 'lists_createoradd' 'lists_remove' 'music_likeness' 'music_query'\n",
      " 'news_query' 'play_audiobook' 'play_game' 'play_music' 'play_podcasts'\n",
      " 'qa_currency' 'qa_factoid' 'qa_maths' 'recommendation_events'\n",
      " 'recommendation_locations' 'recommendation_movies' 'social_post'\n",
      " 'social_query' 'takeaway_order' 'takeaway_query' 'transport_query'\n",
      " 'transport_ticket']\n",
      "49\n",
      "['oos' 'alarm_remove' 'audio_volume_mute' 'calendar_query'\n",
      " 'calendar_remove' 'calendar_set' 'datetime_convert' 'datetime_query'\n",
      " 'email_addcontact' 'email_querycontact' 'email_sendemail'\n",
      " 'general_affirm' 'general_commandstop' 'general_confirm'\n",
      " 'general_dontcare' 'general_explain' 'general_joke' 'general_negate'\n",
      " 'general_quirky' 'iot_cleaning' 'iot_coffee' 'iot_hue_lightchange'\n",
      " 'iot_hue_lightdim' 'iot_hue_lightoff' 'iot_hue_lightup' 'iot_wemo_off'\n",
      " 'lists_createoradd' 'lists_query' 'lists_remove' 'music_likeness'\n",
      " 'music_settings' 'news_query' 'play_game' 'play_music' 'play_podcasts'\n",
      " 'play_radio' 'qa_currency' 'qa_definition' 'qa_factoid'\n",
      " 'recommendation_locations' 'recommendation_movies' 'social_post'\n",
      " 'social_query' 'takeaway_order' 'takeaway_query' 'transport_query'\n",
      " 'transport_ticket' 'transport_traffic' 'weather_query']\n",
      "['alarm_remove' 'audio_volume_mute' 'calendar_query' 'calendar_remove'\n",
      " 'calendar_set' 'datetime_convert' 'datetime_query' 'email_addcontact'\n",
      " 'email_querycontact' 'email_sendemail' 'general_affirm'\n",
      " 'general_commandstop' 'general_confirm' 'general_dontcare'\n",
      " 'general_explain' 'general_joke' 'general_negate' 'general_quirky'\n",
      " 'iot_cleaning' 'iot_coffee' 'iot_hue_lightchange' 'iot_hue_lightdim'\n",
      " 'iot_hue_lightoff' 'iot_hue_lightup' 'iot_wemo_off' 'lists_createoradd'\n",
      " 'lists_query' 'lists_remove' 'music_likeness' 'music_settings'\n",
      " 'news_query' 'play_game' 'play_music' 'play_podcasts' 'play_radio'\n",
      " 'qa_currency' 'qa_definition' 'qa_factoid' 'recommendation_locations'\n",
      " 'recommendation_movies' 'social_post' 'social_query' 'takeaway_order'\n",
      " 'takeaway_query' 'transport_query' 'transport_ticket' 'transport_traffic'\n",
      " 'weather_query']\n"
     ]
    },
    {
     "name": "stdout",
     "output_type": "stream",
     "text": [
      "49\n"
     ]
    }
   ],
   "source": [
    "for i in range(5):\n",
    "    df_train = pd.read_csv('train.csv', index_col=None)\n",
    "    #df_valid = pd.read_csv('valid.tsv', delimiter='\\t', index_col=None)\n",
    "    df_test = pd.read_csv('test.csv', index_col=None)\n",
    "    df_train['label'] = df_train['category']\n",
    "    df_test['label'] = df_test['category']\n",
    "    np.random.seed(42*i + 323 + i)\n",
    "    unique_labels = df_train.label.unique()\n",
    "    seen_labels = np.random.choice(unique_labels, int(len(unique_labels)*0.75), replace=False)\n",
    "    df_test_ = df_test\n",
    "\n",
    "    df_train_seen = df_train[df_train.label.isin(seen_labels)]\n",
    "#     df_valid_seen = df_valid[df_valid.label.isin(seen_labels)]\n",
    "#     df_valid_oos = df_valid[~df_valid.label.isin(seen_labels)]\n",
    "#     df_valid_oos.loc[:, \"label\"] = 'oos'\n",
    "    df_test_.loc[~df_test_.label.isin(seen_labels), \"label\"] = 'oos'\n",
    "    print(df_test_.label.unique())\n",
    "    print(df_train_seen.label.unique())\n",
    "    df_train_seen.to_csv(f\"seed_{i}/train.csv\")\n",
    "    #df_valid_seen.to_csv(f\"seed_{i}/val.csv\")\n",
    "    df_test_.to_csv(f\"seed_{i}/test.csv\")\n",
    "    print(len(df_test_.label.unique()))"
   ]
  },
  {
   "cell_type": "code",
   "execution_count": 212,
   "id": "4ec2897b",
   "metadata": {},
   "outputs": [],
   "source": [
    "import pdb"
   ]
  },
  {
   "cell_type": "code",
   "execution_count": 214,
   "id": "f175d13d",
   "metadata": {},
   "outputs": [
    {
     "data": {
      "text/plain": [
       "3"
      ]
     },
     "execution_count": 214,
     "metadata": {},
     "output_type": "execute_result"
    }
   ],
   "source": [
    "int(len(unique_labels)*0.75)"
   ]
  },
  {
   "cell_type": "code",
   "execution_count": 21,
   "id": "ebfd5542",
   "metadata": {
    "scrolled": true
   },
   "outputs": [
    {
     "data": {
      "text/html": [
       "<div>\n",
       "<style scoped>\n",
       "    .dataframe tbody tr th:only-of-type {\n",
       "        vertical-align: middle;\n",
       "    }\n",
       "\n",
       "    .dataframe tbody tr th {\n",
       "        vertical-align: top;\n",
       "    }\n",
       "\n",
       "    .dataframe thead th {\n",
       "        text-align: right;\n",
       "    }\n",
       "</style>\n",
       "<table border=\"1\" class=\"dataframe\">\n",
       "  <thead>\n",
       "    <tr style=\"text-align: right;\">\n",
       "      <th></th>\n",
       "      <th>text</th>\n",
       "    </tr>\n",
       "    <tr>\n",
       "      <th>label</th>\n",
       "      <th></th>\n",
       "    </tr>\n",
       "  </thead>\n",
       "  <tbody>\n",
       "    <tr>\n",
       "      <th>ajax</th>\n",
       "      <td>300</td>\n",
       "    </tr>\n",
       "    <tr>\n",
       "      <th>cocoa</th>\n",
       "      <td>300</td>\n",
       "    </tr>\n",
       "    <tr>\n",
       "      <th>excel</th>\n",
       "      <td>300</td>\n",
       "    </tr>\n",
       "    <tr>\n",
       "      <th>haskell</th>\n",
       "      <td>300</td>\n",
       "    </tr>\n",
       "    <tr>\n",
       "      <th>linq</th>\n",
       "      <td>300</td>\n",
       "    </tr>\n",
       "    <tr>\n",
       "      <th>magento</th>\n",
       "      <td>300</td>\n",
       "    </tr>\n",
       "    <tr>\n",
       "      <th>matlab</th>\n",
       "      <td>300</td>\n",
       "    </tr>\n",
       "    <tr>\n",
       "      <th>oos</th>\n",
       "      <td>1500</td>\n",
       "    </tr>\n",
       "    <tr>\n",
       "      <th>oracle</th>\n",
       "      <td>300</td>\n",
       "    </tr>\n",
       "    <tr>\n",
       "      <th>osx</th>\n",
       "      <td>300</td>\n",
       "    </tr>\n",
       "    <tr>\n",
       "      <th>qt</th>\n",
       "      <td>300</td>\n",
       "    </tr>\n",
       "    <tr>\n",
       "      <th>scala</th>\n",
       "      <td>300</td>\n",
       "    </tr>\n",
       "    <tr>\n",
       "      <th>sharepoint</th>\n",
       "      <td>300</td>\n",
       "    </tr>\n",
       "    <tr>\n",
       "      <th>svn</th>\n",
       "      <td>300</td>\n",
       "    </tr>\n",
       "    <tr>\n",
       "      <th>visual-studio</th>\n",
       "      <td>300</td>\n",
       "    </tr>\n",
       "    <tr>\n",
       "      <th>wordpress</th>\n",
       "      <td>300</td>\n",
       "    </tr>\n",
       "  </tbody>\n",
       "</table>\n",
       "</div>"
      ],
      "text/plain": [
       "               text\n",
       "label              \n",
       "ajax            300\n",
       "cocoa           300\n",
       "excel           300\n",
       "haskell         300\n",
       "linq            300\n",
       "magento         300\n",
       "matlab          300\n",
       "oos            1500\n",
       "oracle          300\n",
       "osx             300\n",
       "qt              300\n",
       "scala           300\n",
       "sharepoint      300\n",
       "svn             300\n",
       "visual-studio   300\n",
       "wordpress       300"
      ]
     },
     "execution_count": 21,
     "metadata": {},
     "output_type": "execute_result"
    }
   ],
   "source": [
    "df_test.groupby('label').count()"
   ]
  },
  {
   "cell_type": "code",
   "execution_count": 50,
   "id": "be0e90b3",
   "metadata": {},
   "outputs": [],
   "source": [
    "        \n",
    "def load_intent_examples(file_path, do_lower_case=True):\n",
    "    examples = []\n",
    "\n",
    "    with open('{}/seq.in'.format(file_path), 'r', encoding=\"utf-8\") as f_text, open('{}/label'.format(file_path), 'r', encoding=\"utf-8\") as f_label:\n",
    "        for text, label in zip(f_text, f_label):\n",
    "            e = (text.strip(), label.strip())\n",
    "            examples.append(e)\n",
    "\n",
    "    return examples"
   ]
  },
  {
   "cell_type": "code",
   "execution_count": 95,
   "id": "6e2d4493",
   "metadata": {},
   "outputs": [
    {
     "name": "stdout",
     "output_type": "stream",
     "text": [
      "/home/qudgks/workspace/unbert/dataset/BANKING77-OOS\n"
     ]
    }
   ],
   "source": [
    "cd .."
   ]
  },
  {
   "cell_type": "code",
   "execution_count": 96,
   "id": "4c1afa88",
   "metadata": {},
   "outputs": [],
   "source": [
    "dataset = load_intent_examples('train')"
   ]
  },
  {
   "cell_type": "code",
   "execution_count": 4,
   "id": "7aa224a4",
   "metadata": {},
   "outputs": [
    {
     "name": "stdout",
     "output_type": "stream",
     "text": [
      " AUROC_K_plot.ipynb     'OC-SVM feature.ipynb'   \u001b[0m\u001b[01;34msrc\u001b[0m/\r\n",
      " \u001b[01;34mdata\u001b[0m/                   README.md               toy_vis.ipynb\r\n",
      "'Doc edit.ipynb'         requirements.sh         Untitled.ipynb\r\n",
      " emb_vis.ipynb           run_new20_dec_bert.sh\r\n",
      " mahalanobis_vis.ipynb   \u001b[01;34msoftmax_scores\u001b[0m/\r\n"
     ]
    }
   ],
   "source": [
    "ls"
   ]
  },
  {
   "cell_type": "code",
   "execution_count": 11,
   "id": "31a4f677",
   "metadata": {},
   "outputs": [],
   "source": [
    "def load_dataset(data_name, data_type=\"full\"):\n",
    "    with open(\"./data/data_full.json\", 'r') as f:\n",
    "        data = json.load(f)\n",
    "\n",
    "    field = \"_\".join(data_name.split(\"_\")[1:])\n",
    "    dataset = data[field]\n",
    "    data_df = pd.DataFrame(dataset, columns=[\"sentance\", \"labels\"])\n",
    "    data_df[\"labels\"] = data_df['labels'].astype(\"category\").cat.codes\n",
    "    return data_df\n",
    "\n",
    "\n",
    "def clinc_150_Dataset():\n",
    "    data_train = load_dataset(\"clinc150_train\")\n",
    "    test_in = load_dataset(\"clinc150_test\")\n",
    "    test_out = load_dataset(\"clinc150_oos_test\")\n",
    "    \n",
    "    return data_train, test_in, test_out"
   ]
  },
  {
   "cell_type": "code",
   "execution_count": 12,
   "id": "b633e877",
   "metadata": {},
   "outputs": [],
   "source": [
    "train, test_in, test_out = clinc_150_Dataset()"
   ]
  },
  {
   "cell_type": "code",
   "execution_count": 13,
   "id": "091ca4eb",
   "metadata": {},
   "outputs": [
    {
     "data": {
      "text/html": [
       "<div>\n",
       "<style scoped>\n",
       "    .dataframe tbody tr th:only-of-type {\n",
       "        vertical-align: middle;\n",
       "    }\n",
       "\n",
       "    .dataframe tbody tr th {\n",
       "        vertical-align: top;\n",
       "    }\n",
       "\n",
       "    .dataframe thead th {\n",
       "        text-align: right;\n",
       "    }\n",
       "</style>\n",
       "<table border=\"1\" class=\"dataframe\">\n",
       "  <thead>\n",
       "    <tr style=\"text-align: right;\">\n",
       "      <th></th>\n",
       "      <th>sentance</th>\n",
       "      <th>labels</th>\n",
       "    </tr>\n",
       "  </thead>\n",
       "  <tbody>\n",
       "    <tr>\n",
       "      <th>0</th>\n",
       "      <td>how much has the dow changed today</td>\n",
       "      <td>0</td>\n",
       "    </tr>\n",
       "    <tr>\n",
       "      <th>1</th>\n",
       "      <td>how many prime numbers are there between 0 and...</td>\n",
       "      <td>0</td>\n",
       "    </tr>\n",
       "    <tr>\n",
       "      <th>2</th>\n",
       "      <td>can you tell me how to solve simple algebraic ...</td>\n",
       "      <td>0</td>\n",
       "    </tr>\n",
       "    <tr>\n",
       "      <th>3</th>\n",
       "      <td>can you dim the brightness of my screen</td>\n",
       "      <td>0</td>\n",
       "    </tr>\n",
       "    <tr>\n",
       "      <th>4</th>\n",
       "      <td>what is the account number to the internet ser...</td>\n",
       "      <td>0</td>\n",
       "    </tr>\n",
       "    <tr>\n",
       "      <th>...</th>\n",
       "      <td>...</td>\n",
       "      <td>...</td>\n",
       "    </tr>\n",
       "    <tr>\n",
       "      <th>995</th>\n",
       "      <td>find my wallet</td>\n",
       "      <td>0</td>\n",
       "    </tr>\n",
       "    <tr>\n",
       "      <th>996</th>\n",
       "      <td>can you give me the gps location of harvey</td>\n",
       "      <td>0</td>\n",
       "    </tr>\n",
       "    <tr>\n",
       "      <th>997</th>\n",
       "      <td>where's my buddy steve right this second</td>\n",
       "      <td>0</td>\n",
       "    </tr>\n",
       "    <tr>\n",
       "      <th>998</th>\n",
       "      <td>locate jenny at her present position</td>\n",
       "      <td>0</td>\n",
       "    </tr>\n",
       "    <tr>\n",
       "      <th>999</th>\n",
       "      <td>let me know where jim is right now</td>\n",
       "      <td>0</td>\n",
       "    </tr>\n",
       "  </tbody>\n",
       "</table>\n",
       "<p>1000 rows × 2 columns</p>\n",
       "</div>"
      ],
      "text/plain": [
       "                                              sentance  labels\n",
       "0                   how much has the dow changed today       0\n",
       "1    how many prime numbers are there between 0 and...       0\n",
       "2    can you tell me how to solve simple algebraic ...       0\n",
       "3              can you dim the brightness of my screen       0\n",
       "4    what is the account number to the internet ser...       0\n",
       "..                                                 ...     ...\n",
       "995                                     find my wallet       0\n",
       "996         can you give me the gps location of harvey       0\n",
       "997           where's my buddy steve right this second       0\n",
       "998               locate jenny at her present position       0\n",
       "999                 let me know where jim is right now       0\n",
       "\n",
       "[1000 rows x 2 columns]"
      ]
     },
     "execution_count": 13,
     "metadata": {},
     "output_type": "execute_result"
    }
   ],
   "source": [
    "test_out"
   ]
  },
  {
   "cell_type": "code",
   "execution_count": null,
   "id": "fb7575ac",
   "metadata": {},
   "outputs": [],
   "source": []
  },
  {
   "cell_type": "code",
   "execution_count": 97,
   "id": "094aa02f",
   "metadata": {},
   "outputs": [],
   "source": [
    "df = pd.DataFrame(dataset, columns=['text', 'labels'])"
   ]
  }
 ],
 "metadata": {
  "kernelspec": {
   "display_name": "Python 3 (ipykernel)",
   "language": "python",
   "name": "python3"
  },
  "language_info": {
   "codemirror_mode": {
    "name": "ipython",
    "version": 3
   },
   "file_extension": ".py",
   "mimetype": "text/x-python",
   "name": "python",
   "nbconvert_exporter": "python",
   "pygments_lexer": "ipython3",
   "version": "3.9.12"
  }
 },
 "nbformat": 4,
 "nbformat_minor": 5
}
